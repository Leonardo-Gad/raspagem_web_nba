{
 "cells": [
  {
   "cell_type": "code",
   "execution_count": 1,
   "metadata": {
    "id": "McIk-BB-rDN9"
   },
   "outputs": [],
   "source": [
    "import pandas as pd\n",
    "from bs4 import BeautifulSoup\n",
    "import requests\n",
    "from lxml import html\n",
    "from tabulate import tabulate"
   ]
  },
  {
   "cell_type": "code",
   "execution_count": 2,
   "metadata": {
    "id": "2LN6PqrjrQQ_"
   },
   "outputs": [],
   "source": [
    "url = 'https://www.basketball-reference.com/boxscores/202404020DEN.html'\n"
   ]
  },
  {
   "cell_type": "code",
   "execution_count": 3,
   "metadata": {
    "colab": {
     "base_uri": "https://localhost:8080/"
    },
    "id": "NSEbgwy9r5wp",
    "outputId": "772c4934-e9ad-4946-c8f5-2b7d740c6a42"
   },
   "outputs": [
    {
     "data": {
      "text/plain": [
       "<Response [200]>"
      ]
     },
     "execution_count": 3,
     "metadata": {},
     "output_type": "execute_result"
    }
   ],
   "source": [
    "response = requests.get(url)\n",
    "response"
   ]
  },
  {
   "cell_type": "code",
   "execution_count": 5,
   "metadata": {
    "id": "XH-ywamttCQ6"
   },
   "outputs": [],
   "source": [
    "soup = BeautifulSoup(response.text, \"html.parser\")"
   ]
  },
  {
   "cell_type": "code",
   "execution_count": null,
   "metadata": {},
   "outputs": [],
   "source": []
  },
  {
   "cell_type": "code",
   "execution_count": 6,
   "metadata": {
    "id": "y6HAjGaP5A4k"
   },
   "outputs": [],
   "source": [
    "tabela = []"
   ]
  },
  {
   "cell_type": "code",
   "execution_count": 17,
   "metadata": {
    "id": "aouixukt5I9R"
   },
   "outputs": [],
   "source": [
    "for tabelas in soup.select(\"tbody\"):\n",
    "  starters = tabelas.select(\"tr\")[0].text\n",
    "  tabela.append((starters))\n"
   ]
  },
  {
   "cell_type": "code",
   "execution_count": 8,
   "metadata": {
    "colab": {
     "base_uri": "https://localhost:8080/"
    },
    "id": "CyBjgEUc7GCa",
    "outputId": "1ac1ac51-b418-41f1-ec8d-9068993cd5f0"
   },
   "outputs": [
    {
     "name": "stdout",
     "output_type": "stream",
     "text": [
      "                                             starters\n",
      "0   Julian Champagnie37:16410.40014.25023.66714521...\n",
      "1     Julian Champagnie12:0013.3330023.667000100104-7\n",
      "2      Julian Champagnie6:0801.00001.00000022001000+4\n",
      "3   Julian Champagnie18:0814.25001.00023.667022101...\n",
      "4      Julian Champagnie12:0036.50013.333001121100070\n",
      "5              Julian Champagnie7:08000000011000000+2\n",
      "6     Julian Champagnie19:0836.50013.33300123110007+2\n",
      "7   Julian Champagnie37:16.486.450.400.3002.39.45....\n",
      "8   Nikola Jokić37:351832.56316.16756.833412166124...\n",
      "9        Nikola Jokić12:00713.53814.250002682101015+7\n",
      "10               Nikola Jokić6:2724.50000000112000040\n",
      "11       Nikola Jokić18:27917.52914.250002794101019+7\n",
      "12    Nikola Jokić12:00610.60001.00034.75013420122150\n",
      "13     Nikola Jokić7:0835.60001.000221.000123001108-2\n",
      "14   Nikola Jokić19:08915.60002.00056.8332572023223-2\n",
      "15  Nikola Jokić37:35.606.578.188.1889.327.418.438...\n"
     ]
    }
   ],
   "source": [
    "df = pd.DataFrame(tabela, columns=[\"starters\"])\n",
    "print(df)\n"
   ]
  },
  {
   "cell_type": "code",
   "execution_count": null,
   "metadata": {
    "id": "DKRUvXpl7icG"
   },
   "outputs": [],
   "source": []
  }
 ],
 "metadata": {
  "colab": {
   "provenance": []
  },
  "kernelspec": {
   "display_name": "Python 3 (ipykernel)",
   "language": "python",
   "name": "python3"
  },
  "language_info": {
   "codemirror_mode": {
    "name": "ipython",
    "version": 3
   },
   "file_extension": ".py",
   "mimetype": "text/x-python",
   "name": "python",
   "nbconvert_exporter": "python",
   "pygments_lexer": "ipython3",
   "version": "3.11.7"
  }
 },
 "nbformat": 4,
 "nbformat_minor": 4
}
